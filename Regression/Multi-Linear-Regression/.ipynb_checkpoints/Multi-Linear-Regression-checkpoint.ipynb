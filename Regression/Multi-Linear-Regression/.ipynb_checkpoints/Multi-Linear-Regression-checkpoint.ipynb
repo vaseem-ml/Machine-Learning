{
 "cells": [
  {
   "cell_type": "markdown",
   "metadata": {},
   "source": [
    "# Multi Linear Regression"
   ]
  },
  {
   "cell_type": "markdown",
   "metadata": {},
   "source": [
    "##### Defination and working\n",
    "Linear Regression is a supervised learning algorithm used when target/dependant variable continues real number.\n",
    "It establish relationship between target variable y and one or more indepandant variable x using best fit line.\n",
    "It works on the principal of ordinary least square(OLS) / Mean Square Error (MSE).  In statistics ols is method to estimated unkown parameter of linear regression function, it's goal is to minimize sum of square difference between observed dependent variable in the given data set and those predicted by linear regression fuction.\n",
    "\n"
   ]
  },
  {
   "cell_type": "markdown",
   "metadata": {},
   "source": [
    "##### hypothesis representation\n",
    "we will use $x_{i}$ to denote the independent variable and $y_{i}$ to denote dependent variable. A pair of ($x_{i}$, $y_{i}$) is called training example and i is the index of training set. If we have m training example then i=1, 2, 3, ..., m\n",
    "\n",
    "The goal of supervised learning is to learn a hypothesis function  h , for a given training set that can used to estimate  y  based on  x . So hypothesis fuction represented as\n",
    "\n",
    "<center><h3>$h_{\\theta(x_{i})} = $ </h3></center>"
   ]
  },
  {
   "cell_type": "markdown",
   "metadata": {},
   "source": []
  }
 ],
 "metadata": {
  "kernelspec": {
   "display_name": "Python 3",
   "language": "python",
   "name": "python3"
  },
  "language_info": {
   "codemirror_mode": {
    "name": "ipython",
    "version": 3
   },
   "file_extension": ".py",
   "mimetype": "text/x-python",
   "name": "python",
   "nbconvert_exporter": "python",
   "pygments_lexer": "ipython3",
   "version": "3.6.10"
  }
 },
 "nbformat": 4,
 "nbformat_minor": 4
}
